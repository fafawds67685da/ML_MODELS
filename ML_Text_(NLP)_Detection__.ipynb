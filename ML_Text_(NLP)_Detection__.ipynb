{
  "nbformat": 4,
  "nbformat_minor": 0,
  "metadata": {
    "colab": {
      "provenance": []
    },
    "kernelspec": {
      "name": "python3",
      "display_name": "Python 3"
    },
    "language_info": {
      "name": "python"
    }
  },
  "cells": [
    {
      "cell_type": "code",
      "source": [
        "pip install nltk\n"
      ],
      "metadata": {
        "colab": {
          "base_uri": "https://localhost:8080/"
        },
        "id": "KmKNKSrczVC8",
        "outputId": "b91cf952-92e0-4f06-914e-021bf252ff91"
      },
      "execution_count": null,
      "outputs": [
        {
          "output_type": "stream",
          "name": "stdout",
          "text": [
            "Requirement already satisfied: nltk in /usr/local/lib/python3.10/dist-packages (3.9.1)\n",
            "Requirement already satisfied: click in /usr/local/lib/python3.10/dist-packages (from nltk) (8.1.7)\n",
            "Requirement already satisfied: joblib in /usr/local/lib/python3.10/dist-packages (from nltk) (1.4.2)\n",
            "Requirement already satisfied: regex>=2021.8.3 in /usr/local/lib/python3.10/dist-packages (from nltk) (2024.9.11)\n",
            "Requirement already satisfied: tqdm in /usr/local/lib/python3.10/dist-packages (from nltk) (4.66.6)\n"
          ]
        }
      ]
    },
    {
      "cell_type": "code",
      "source": [
        "import nltk\n",
        "\n",
        "\n",
        "paragraph=\"\"\"In India, Children’s Day is celebrated on 14th November every year to commemorate the birth anniversary of our first Prime Minister,\n",
        "Pandit Jawaharlal Nehru. He loved children dearly and is fondly remembered as Chacha Nehru by them. After his death in 1964, his birthday was declared\n",
        "as Children’s Day nationwide.Pandit Nehru was very fond of kids and advocated children’s education as he strongly believed that they were the future\n",
        "leaders of the nation. He was a strong believer of instilling rich moral virtues in children. He was of the opinion that children should be moulded\n",
        "from a young age properly so that they can become productive and responsible citizens of the country.On this special day, most schools across the\n",
        "country celebrate it by organising socio-cultural programmes for children. Some of the events include poetry, recitation, fancy dress competition,\n",
        "singing and dancing events, skits and plays for children. Besides refreshments, kids are also gifted toys, clothes, stationery, chocolates, toffees\n",
        "and other interesting goodies. Sometimes, they also watch child-friendly films and shows.Children’s Day, therefore, emphasises the importance of\n",
        "showering love and affection to each child. It is celebrated with great fervour and enthusiasm across the country. Every child cherishes this day\n",
        "as they get to enjoy it to the fullest. It is important to remember that this special occasion is celebrated to take Pandit Nehru’s dream of\n",
        "providing quality education to each child so that they can become the future building blocks of the nation and contribute towards the greater\n",
        "benefit of the society.\"\"\""
      ],
      "metadata": {
        "id": "mloJz1Q16HXI"
      },
      "execution_count": null,
      "outputs": []
    },
    {
      "cell_type": "code",
      "source": [
        "import re\n",
        "from nltk.corpus import stopwords\n",
        "from nltk.stem.porter import PorterStemmer\n",
        "from nltk.stem import WordNetLemmatizer"
      ],
      "metadata": {
        "id": "_sgoGV4h3q8f"
      },
      "execution_count": null,
      "outputs": []
    },
    {
      "cell_type": "code",
      "source": [
        "nltk.download('stopwords')\n",
        "nltk.download('wordnet')"
      ],
      "metadata": {
        "colab": {
          "base_uri": "https://localhost:8080/"
        },
        "id": "FJC4SC5M65AD",
        "outputId": "25ac636c-3e0b-4716-e34e-807a152d46ff"
      },
      "execution_count": null,
      "outputs": [
        {
          "output_type": "stream",
          "name": "stderr",
          "text": [
            "[nltk_data] Downloading package stopwords to /root/nltk_data...\n",
            "[nltk_data]   Package stopwords is already up-to-date!\n",
            "[nltk_data] Downloading package wordnet to /root/nltk_data...\n"
          ]
        },
        {
          "output_type": "execute_result",
          "data": {
            "text/plain": [
              "True"
            ]
          },
          "metadata": {},
          "execution_count": 12
        }
      ]
    },
    {
      "cell_type": "code",
      "source": [
        "ps=PorterStemmer()\n",
        "wordnet=WordNetLemmatizer()"
      ],
      "metadata": {
        "id": "NU-akkSo69UW"
      },
      "execution_count": null,
      "outputs": []
    },
    {
      "cell_type": "code",
      "source": [
        "#print(stopwords.words('english') )\n",
        "print(ps.stem('studies'))\n",
        "print(wordnet.lemmatize('studies'))"
      ],
      "metadata": {
        "colab": {
          "base_uri": "https://localhost:8080/"
        },
        "id": "aUCvhCUW8VjV",
        "outputId": "4850abcb-f674-4d2d-8792-5465b5738f75"
      },
      "execution_count": null,
      "outputs": [
        {
          "output_type": "stream",
          "name": "stdout",
          "text": [
            "studi\n",
            "study\n"
          ]
        }
      ]
    },
    {
      "cell_type": "code",
      "source": [
        "nltk.download('punkt_tab')"
      ],
      "metadata": {
        "colab": {
          "base_uri": "https://localhost:8080/"
        },
        "id": "EVPSzCA59dzv",
        "outputId": "5e8619a6-8426-4f28-ad37-5d4aac8043a4"
      },
      "execution_count": null,
      "outputs": [
        {
          "output_type": "stream",
          "name": "stderr",
          "text": [
            "[nltk_data] Downloading package punkt_tab to /root/nltk_data...\n",
            "[nltk_data]   Unzipping tokenizers/punkt_tab.zip.\n"
          ]
        },
        {
          "output_type": "execute_result",
          "data": {
            "text/plain": [
              "True"
            ]
          },
          "metadata": {},
          "execution_count": 15
        }
      ]
    },
    {
      "cell_type": "code",
      "source": [
        "sentences=nltk.sent_tokenize(paragraph)\n",
        "print(sentences)"
      ],
      "metadata": {
        "colab": {
          "base_uri": "https://localhost:8080/"
        },
        "id": "32dXW6QQ9fj0",
        "outputId": "80a84897-c613-47ca-9e2b-e417f707cad1"
      },
      "execution_count": null,
      "outputs": [
        {
          "output_type": "stream",
          "name": "stdout",
          "text": [
            "['In India, Children’s Day is celebrated on 14th November every year to commemorate the birth anniversary of our first Prime Minister, \\nPandit Jawaharlal Nehru.', 'He loved children dearly and is fondly remembered as Chacha Nehru by them.', 'After his death in 1964, his birthday was declared \\nas Children’s Day nationwide.Pandit Nehru was very fond of kids and advocated children’s education as he strongly believed that they were the future \\nleaders of the nation.', 'He was a strong believer of instilling rich moral virtues in children.', 'He was of the opinion that children should be moulded \\nfrom a young age properly so that they can become productive and responsible citizens of the country.On this special day, most schools across the \\ncountry celebrate it by organising socio-cultural programmes for children.', 'Some of the events include poetry, recitation, fancy dress competition, \\nsinging and dancing events, skits and plays for children.', 'Besides refreshments, kids are also gifted toys, clothes, stationery, chocolates, toffees \\nand other interesting goodies.', 'Sometimes, they also watch child-friendly films and shows.Children’s Day, therefore, emphasises the importance of \\nshowering love and affection to each child.', 'It is celebrated with great fervour and enthusiasm across the country.', 'Every child cherishes this day \\nas they get to enjoy it to the fullest.', 'It is important to remember that this special occasion is celebrated to take Pandit Nehru’s dream of \\nproviding quality education to each child so that they can become the future building blocks of the nation and contribute towards the greater \\nbenefit of the society.']\n"
          ]
        }
      ]
    },
    {
      "cell_type": "code",
      "source": [
        "corpus=[]\n",
        "for i in range(len(sentences)):\n",
        "  review=re.sub('[^a-zA-Z]',' ',sentences[i])\n",
        "  review=review.lower()\n",
        "  review=review.split()\n",
        "  review=[ps.stem(word) for word in review if not word in set(stopwords.words('english'))]\n",
        "  review=' '.join(review)\n",
        "  corpus.append(review)\n",
        "\n"
      ],
      "metadata": {
        "id": "vGO6QjO3_apR"
      },
      "execution_count": null,
      "outputs": []
    },
    {
      "cell_type": "code",
      "source": [
        "corpus"
      ],
      "metadata": {
        "colab": {
          "base_uri": "https://localhost:8080/"
        },
        "id": "smsPtP4cDkFk",
        "outputId": "70155c68-22d7-4888-fafc-4ee303b3d826"
      },
      "execution_count": null,
      "outputs": [
        {
          "output_type": "execute_result",
          "data": {
            "text/plain": [
              "['india children day celebr th novemb everi year commemor birth anniversari first prime minist pandit jawaharl nehru',\n",
              " 'love children dearli fondli rememb chacha nehru',\n",
              " 'death birthday declar children day nationwid pandit nehru fond kid advoc children educ strongli believ futur leader nation',\n",
              " 'strong believ instil rich moral virtu children',\n",
              " 'opinion children mould young age properli becom product respons citizen countri special day school across countri celebr organis socio cultur programm children',\n",
              " 'event includ poetri recit fanci dress competit sing danc event skit play children',\n",
              " 'besid refresh kid also gift toy cloth stationeri chocol toffe interest goodi',\n",
              " 'sometim also watch child friendli film show children day therefor emphasis import shower love affect child',\n",
              " 'celebr great fervour enthusiasm across countri',\n",
              " 'everi child cherish day get enjoy fullest',\n",
              " 'import rememb special occas celebr take pandit nehru dream provid qualiti educ child becom futur build block nation contribut toward greater benefit societi']"
            ]
          },
          "metadata": {},
          "execution_count": 22
        }
      ]
    },
    {
      "cell_type": "code",
      "source": [
        "pip install scikit-learn"
      ],
      "metadata": {
        "colab": {
          "base_uri": "https://localhost:8080/"
        },
        "id": "P6SrVgdcDzsp",
        "outputId": "9832464c-0f9b-47e7-8103-4fccb4d6290d"
      },
      "execution_count": null,
      "outputs": [
        {
          "output_type": "stream",
          "name": "stdout",
          "text": [
            "Requirement already satisfied: scikit-learn in /usr/local/lib/python3.10/dist-packages (1.5.2)\n",
            "Requirement already satisfied: numpy>=1.19.5 in /usr/local/lib/python3.10/dist-packages (from scikit-learn) (1.26.4)\n",
            "Requirement already satisfied: scipy>=1.6.0 in /usr/local/lib/python3.10/dist-packages (from scikit-learn) (1.13.1)\n",
            "Requirement already satisfied: joblib>=1.2.0 in /usr/local/lib/python3.10/dist-packages (from scikit-learn) (1.4.2)\n",
            "Requirement already satisfied: threadpoolctl>=3.1.0 in /usr/local/lib/python3.10/dist-packages (from scikit-learn) (3.5.0)\n"
          ]
        }
      ]
    },
    {
      "cell_type": "code",
      "source": [
        "from sklearn.feature_extraction.text import CountVectorizer\n",
        "cv=CountVectorizer(max_features=1500)\n",
        "X=cv.fit_transform(corpus).toarray()"
      ],
      "metadata": {
        "id": "k7pC10EKD5G_"
      },
      "execution_count": null,
      "outputs": []
    },
    {
      "cell_type": "code",
      "source": [
        "X"
      ],
      "metadata": {
        "colab": {
          "base_uri": "https://localhost:8080/"
        },
        "id": "0z2DXpL9EE28",
        "outputId": "54d06306-263e-4749-e952-ba32f1381c72"
      },
      "execution_count": null,
      "outputs": [
        {
          "output_type": "execute_result",
          "data": {
            "text/plain": [
              "array([[0, 0, 0, ..., 0, 1, 0],\n",
              "       [0, 0, 0, ..., 0, 0, 0],\n",
              "       [0, 1, 0, ..., 0, 0, 0],\n",
              "       ...,\n",
              "       [1, 0, 0, ..., 0, 0, 0],\n",
              "       [0, 0, 0, ..., 0, 0, 0],\n",
              "       [0, 0, 0, ..., 0, 0, 0]])"
            ]
          },
          "metadata": {},
          "execution_count": 25
        }
      ]
    },
    {
      "cell_type": "code",
      "source": [
        "from sklearn.feature_extraction.text import TfidfVectorizer\n",
        "cv=TfidfVectorizer()\n",
        "X=cv.fit_transform(corpus).toarray()\n"
      ],
      "metadata": {
        "id": "WkvZ7IXnFaPm"
      },
      "execution_count": null,
      "outputs": []
    },
    {
      "cell_type": "code",
      "source": [
        "X"
      ],
      "metadata": {
        "id": "S_uhmJm9FbeF",
        "outputId": "7d19c11f-619e-4c1d-e17b-d7e4edb6f3ae",
        "colab": {
          "base_uri": "https://localhost:8080/"
        }
      },
      "execution_count": null,
      "outputs": [
        {
          "output_type": "execute_result",
          "data": {
            "text/plain": [
              "array([[0.        , 0.        , 0.        , ..., 0.        , 0.26900039,\n",
              "        0.        ],\n",
              "       [0.        , 0.        , 0.        , ..., 0.        , 0.        ,\n",
              "        0.        ],\n",
              "       [0.        , 0.26677501, 0.        , ..., 0.        , 0.        ,\n",
              "        0.        ],\n",
              "       ...,\n",
              "       [0.38564968, 0.        , 0.        , ..., 0.        , 0.        ,\n",
              "        0.        ],\n",
              "       [0.        , 0.        , 0.        , ..., 0.        , 0.        ,\n",
              "        0.        ],\n",
              "       [0.        , 0.        , 0.        , ..., 0.        , 0.        ,\n",
              "        0.        ]])"
            ]
          },
          "metadata": {},
          "execution_count": 27
        }
      ]
    }
  ]
}